{
  "nbformat": 4,
  "nbformat_minor": 0,
  "metadata": {
    "colab": {
      "provenance": [],
      "authorship_tag": "ABX9TyPZO3XeEUGiAbCwu1mJnouT",
      "include_colab_link": true
    },
    "kernelspec": {
      "name": "python3",
      "display_name": "Python 3"
    },
    "language_info": {
      "name": "python"
    }
  },
  "cells": [
    {
      "cell_type": "markdown",
      "metadata": {
        "id": "view-in-github",
        "colab_type": "text"
      },
      "source": [
        "<a href=\"https://colab.research.google.com/github/jessycalais/API_BigQuery_Python/blob/main/Automatizando_Planilhas.ipynb\" target=\"_parent\"><img src=\"https://colab.research.google.com/assets/colab-badge.svg\" alt=\"Open In Colab\"/></a>"
      ]
    },
    {
      "cell_type": "markdown",
      "source": [
        "**1. Escrevendo em arquivos do Excel já existentes**\n",
        "\n",
        "Quando a gente começa a estudar Pandas no Python é um tal de \"df.to_excel()\" para cá, \"df.to_excel()\" para lá\n",
        "\n",
        "E assim nosso computador fica cheio de arquivos 😂\n",
        "\n",
        "Pior ainda é quando a gente exporta para o Excel para copiar e colar em outra planilha porque nosso relatório, tabelas dinâmicas ou dashboard estão lá\n",
        "\n",
        "Você sabia que o Pandas tem um classe específica para \"escrever\" em arquivos já existentes?\n",
        "\n",
        "__________\n",
        "\n",
        "Recentemente trabalhei em automatizar um relatório no Excel, mas não queria gerar um arquivo novo toda vez.\n",
        "\n",
        "A classe ExcelWriter resolveu meu problema 😀\n",
        "__________\n",
        "\n",
        "Veja abaixo um exemplo de aplicação.\n",
        "\n",
        "Você pode aumentar ou refazer o conteúdo de uma aba existente, ou ainda, criar a aba"
      ],
      "metadata": {
        "id": "bv2EcKp7YeRY"
      }
    },
    {
      "cell_type": "code",
      "source": [
        "# Imports de pacotes built-in\n",
        "from os import path\n",
        "from pathlib import Path\n",
        "\n",
        "# Imports de pacotes de terceiros\n",
        "import pandas as pd\n",
        "\n",
        "# Endereço do Relatório\n",
        "PASTA = Path('__file__').resolve().parent\n",
        "ENDERECO_RELATORIO = path.join(PASTA, 'app', 'Relatorio.xlsx')\n",
        "\n",
        "# Gerar o conteúdo a ser inserido no Relatório\n",
        "df = ...\n",
        "\n",
        "# Apagar o conteúdo anterior e inserir um novo\n",
        "with pd.ExcelWriter(\n",
        "                    ENDERECO_RELATORIO,\n",
        "                    mode='a',\n",
        "                    if_sheet_exists='replace',\n",
        "                    engine='openpyxl'\n",
        "                    ) as writer:\n",
        "    df.to_excel(writer, sheet_name='BaseNotas', index=False)"
      ],
      "metadata": {
        "id": "4C8nl17gh8Jb"
      },
      "execution_count": null,
      "outputs": []
    },
    {
      "cell_type": "markdown",
      "source": [
        "**2. Unificar abas idênticas (mesma estrutura) de um mesmo arquivo Excel**\n",
        "\n",
        "**Exemplo:** Cada aba poderia conter os dados de venda de cada funcionário\n",
        "\n",
        "---\n",
        "\n",
        "**Problema:** Como unificar várias abas de um mesmo arquivo Excel?\n",
        "\n",
        "**Solucão:** Usar a classe ExcelFile do Pandas e o atributo \"sheet_names\"\n",
        "____________\n",
        "\n",
        "Veja abaixo um código que você pode modificar para escolher as abas/colunas, etc, se precisar"
      ],
      "metadata": {
        "id": "j-JdDACJcp42"
      }
    },
    {
      "cell_type": "code",
      "source": [
        "# Imports de pacote built-in\n",
        "import datetime\n",
        "\n",
        "# Imports de pacotes de terceiros\n",
        "import pandas as pd\n",
        "\n",
        "# Endereco - coloque entre ''\n",
        "ENDERECO = 'teste.xlsx'\n",
        "\n",
        "# Acessar arquivo\n",
        "arquivo = pd.ExcelFile(ENDERECO)"
      ],
      "metadata": {
        "id": "jOz3XRbKh-pP"
      },
      "execution_count": null,
      "outputs": []
    },
    {
      "cell_type": "code",
      "source": [
        "# Loop para conferir quais abas serão unificadas\n",
        "for i, aba in enumerate(arquivo.sheet_names):\n",
        "    print(f'Aba {i+1}: {aba}')"
      ],
      "metadata": {
        "id": "6dbitJ_Ic6zD"
      },
      "execution_count": null,
      "outputs": []
    },
    {
      "cell_type": "code",
      "source": [
        "# Lista para receber tabelas\n",
        "tabelas = []\n",
        "\n",
        "# Loop para ler abas\n",
        "for aba in arquivo.sheet_names:\n",
        "    df = pd.read_excel(ENDERECO, sheet_name=aba)\n",
        "    tabelas.append(df)\n",
        "\n",
        "# Unificar\n",
        "unificada = pd.concat(tabelas)\n",
        "\n",
        "# Data\n",
        "DATA = datetime.date.today().strftime(\"%d-%m-%Y\")\n",
        "\n",
        "# Exportar para excel\n",
        "unificada.to_excel(f'ArquivoUnificado_{DATA}.xlsx', index=False)"
      ],
      "metadata": {
        "id": "uXKL_Ulsc66n"
      },
      "execution_count": null,
      "outputs": []
    }
  ]
}